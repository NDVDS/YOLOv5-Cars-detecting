{
  "cells": [
    {
      "cell_type": "markdown",
      "metadata": {
        "id": "view-in-github",
        "colab_type": "text"
      },
      "source": [
        "<a href=\"https://colab.research.google.com/github/NDVDS/YOLOv5-Cars-detecting/blob/main/Copy_of_CarsDetecting.ipynb\" target=\"_parent\"><img src=\"https://colab.research.google.com/assets/colab-badge.svg\" alt=\"Open In Colab\"/></a>"
      ]
    },
    {
      "cell_type": "code",
      "source": [
        "!git clone https://github.com/NDVDS/YOLOv5-Cars-detecting.git\n",
        "%cd /content/YOLOv5-Cars-detecting"
      ],
      "metadata": {
        "id": "Jguoc-svdQdL"
      },
      "execution_count": null,
      "outputs": []
    },
    {
      "cell_type": "code",
      "execution_count": null,
      "metadata": {
        "id": "-LVoUmO1u5Ha"
      },
      "outputs": [],
      "source": [
        "#Install requirements and load pretrained yolov5s model\n",
        "!pip install -r https://raw.githubusercontent.com/ultralytics/yolov5/master/requirements.txt\n",
        "\n",
        "import torch\n",
        "model = torch.hub.load('ultralytics/yolov5', 'yolov5s', pretrained = True)"
      ]
    },
    {
      "cell_type": "code",
      "execution_count": null,
      "metadata": {
        "id": "h4GXBBmPtx2I"
      },
      "outputs": [],
      "source": [
        "#Modifying calsses and confidence parameters\n",
        "model.classes = 2 #Cars only\n",
        "model.conf = 0.73"
      ]
    },
    {
      "cell_type": "code",
      "source": [
        "im = '/content/imageSample.jpg'"
      ],
      "metadata": {
        "id": "PKXM6XZ4V-R7"
      },
      "execution_count": null,
      "outputs": []
    },
    {
      "cell_type": "code",
      "source": [
        "#Model inference and printing results in json format\n",
        "results = model(im)\n",
        "bboxes = results.pandas().xyxy[0][['xmin','ymin','xmax','ymax']]\n",
        "print(bboxes)"
      ],
      "metadata": {
        "id": "yrd8O4hYWH_2"
      },
      "execution_count": null,
      "outputs": []
    },
    {
      "cell_type": "code",
      "execution_count": null,
      "metadata": {
        "id": "uVB3e2PWvUFH"
      },
      "outputs": [],
      "source": [
        "results.show()"
      ]
    },
    {
      "cell_type": "code",
      "execution_count": null,
      "metadata": {
        "id": "07je4ylL-kqp"
      },
      "outputs": [],
      "source": [
        "#Saving JSON\n",
        "bboxes.to_json('BBOXESPred.json',orient='index')"
      ]
    },
    {
      "cell_type": "code",
      "execution_count": null,
      "metadata": {
        "id": "lNdC6qUxwVvR"
      },
      "outputs": [],
      "source": [
        "#VIDEO:\n",
        "#Extracting farme by frame foward to model input,\n",
        "#writing results to new video.\n",
        "import cv2\n",
        "from tqdm import tqdm\n",
        "\n",
        "vid_cap = cv2.VideoCapture('/content/videoInput.mp4')\n",
        "frame_read, img = vid_cap.read()\n",
        "      \n",
        "fps = vid_cap.get(cv2.CAP_PROP_FPS) \n",
        "w = int(vid_cap.get(cv2.CAP_PROP_FRAME_WIDTH))\n",
        "h = int(vid_cap.get(cv2.CAP_PROP_FRAME_HEIGHT))\n",
        "frame_count = int(vid_cap.get(cv2.CAP_PROP_FRAME_COUNT))\n",
        "out = cv2.VideoWriter('/content/videoOutput.mp4', cv2.VideoWriter_fourcc(*'MP4V'), fps, (w,h))\n",
        "\n",
        "while(frame_read):\n",
        "  for i in tqdm(range(frame_count)):\n",
        "    result = model(img)\n",
        "    im = result.render()[0]\n",
        "    out.write(im)\n",
        "    frame_read, img = vid_cap.read()\n",
        "    \n",
        "out.release()\n",
        "vid_cap.release()"
      ]
    }
  ],
  "metadata": {
    "colab": {
      "provenance": [],
      "authorship_tag": "ABX9TyMjHoEYoM750pBk/1x+ox/b",
      "include_colab_link": true
    },
    "kernelspec": {
      "display_name": "Python 3",
      "name": "python3"
    },
    "language_info": {
      "name": "python"
    },
    "accelerator": "GPU",
    "gpuClass": "standard"
  },
  "nbformat": 4,
  "nbformat_minor": 0
}